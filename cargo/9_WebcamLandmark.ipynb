{
 "cells": [
  {
   "cell_type": "code",
   "execution_count": 1,
   "id": "4f87d887",
   "metadata": {},
   "outputs": [],
   "source": [
    "import torch\n",
    "import PIL\n",
    "import matplotlib.pyplot as plt\n",
    "import torchvision.transforms as transforms\n",
    "import natsort\n",
    "import glob\n",
    "import cv2\n",
    "import os\n",
    "import matplotlib.patches as patches\n",
    "import numpy as np\n",
    "import time\n",
    "from scipy import io\n",
    "\n",
    "import torch.nn as nn\n",
    "import torchvision.transforms.functional as TF\n",
    "from PIL import Image\n",
    "from torchvision import datasets, models, transforms"
   ]
  },
  {
   "cell_type": "code",
   "execution_count": 2,
   "id": "b469ec19",
   "metadata": {},
   "outputs": [],
   "source": [
    "class Network(nn.Module):\n",
    "    def __init__(self,num_classes=136):\n",
    "        super().__init__()\n",
    "        self.model_name='resnet34'\n",
    "        self.model=models.resnet34(pretrained=True)\n",
    "        self.model.conv1=nn.Conv2d(1, 64, kernel_size=3, stride=1, padding=2, bias=False)\n",
    "        self.model.fc=nn.Linear(self.model.fc.in_features, num_classes)\n",
    "        \n",
    "    def forward(self, x):\n",
    "        x=self.model(x)\n",
    "        return x\n",
    "    \n",
    "class Network_pre(nn.Module):\n",
    "    def __init__(self,num_classes=136):\n",
    "        super().__init__()\n",
    "        self.model_name='resnet34'\n",
    "        self.model=models.resnet34(pretrained=True)\n",
    "        self.model.conv1=nn.Conv2d(1, 64, kernel_size=7, stride=2, padding=3, bias=False)\n",
    "        self.model.fc=nn.Linear(self.model.fc.in_features, num_classes)\n",
    "        \n",
    "    def forward(self, x):\n",
    "        x=self.model(x)\n",
    "        return x"
   ]
  },
  {
   "cell_type": "code",
   "execution_count": 9,
   "id": "359d599d",
   "metadata": {
    "scrolled": false
   },
   "outputs": [
    {
     "name": "stdout",
     "output_type": "stream",
     "text": [
      "Time :  1.1032633781433105  for  0  Frames\n"
     ]
    }
   ],
   "source": [
    "net = cv2.dnn.readNetFromCaffe('./openCV_models/deploy.prototxt.txt',\n",
    "                               './openCV_models/res10_300x300_ssd_iter_140000.caffemodel')\n",
    "network_pro = Network()\n",
    "network_pro.cuda()\n",
    "network_pro.load_state_dict(torch.load('./Vacancy_1.pth'))\n",
    "network_pro.eval()\n",
    "\n",
    "#network_pre = Network_pre()\n",
    "#network_pre.cuda()\n",
    "#network_pre.load_state_dict(torch.load('./LandmarkModel_34_2.pth'))\n",
    "#network_pre.eval()\n",
    "\n",
    "save_dir = './webcamTest'\n",
    "\n",
    "start = time.time()\n",
    "#cap = cv2.VideoCapture('./Pictures/Camera Roll/WIN_20211114_09_58_19_Pro.mp4')\n",
    "cap = cv2.VideoCapture(0)\n",
    "\n",
    "i = 0\n",
    "widthh = 0; heightt = 0; tt = 0; ll = 0;\n",
    "fig = []\n",
    "while(cap.isOpened()) :\n",
    "    ret, frame = cap.read()\n",
    "    \n",
    "    if ret == False:\n",
    "        break\n",
    "        \n",
    "    (h, w) = frame.shape[:2]\n",
    "    blob = cv2.dnn.blobFromImage(cv2.resize(frame, (300,300)), 1.0, (300,300), (104.0, 177.0, 123.0))\n",
    "    net.setInput(blob)\n",
    "    detections = net.forward()\n",
    "\n",
    "    box = detections[0, 0, 0, 3:7] * np.array([w, h, w, h])\n",
    "    (l, t, r, b) = box.astype(\"int\")\n",
    "    # Crop\n",
    "    width = (r-l)\n",
    "    height = (b-t)\n",
    "    if(width > height) :\n",
    "        widthh = width*1.5\n",
    "        heightt = widthh\n",
    "        tt = t + height*0.5 - heightt*0.5\n",
    "        ll = l - width*0.25\n",
    "    else :\n",
    "        heightt = height*1.5\n",
    "        widthh = heightt\n",
    "        tt = t - height*0.25\n",
    "        ll = l + width*0.5 - widthh*0.5\n",
    "    \n",
    "    frame = cv2.cvtColor(frame, cv2.COLOR_BGR2GRAY)\n",
    "    frame = Image.fromarray(frame)\n",
    "    frame = TF.crop(frame, tt, ll, heightt, widthh)\n",
    "    frame = TF.resize(frame, (224,224))\n",
    "    frame = TF.to_tensor(frame)\n",
    "    frame = TF.normalize(frame, [0.5], [0.5])\n",
    "    frame = frame.unsqueeze(1)\n",
    "    frame = frame.cuda()\n",
    "    \n",
    "    predictions_pro = (network_pro(frame).cpu())\n",
    "    predictions_pro = predictions_pro.view(-1, 68, 2)\n",
    "    \n",
    "    #predictions_pre = (network_pre(frame).cpu() + 0.5) * 224\n",
    "    #predictions_pre = predictions_pre.view(-1, 68, 2)\n",
    "    \n",
    "    \n",
    "    fig.insert(i, plt.figure(figsize=(600/100, 600/100), dpi=100))\n",
    "    plt.scatter(predictions_pro[0, :, 0].detach().numpy(), predictions_pro[0, :, 1].detach().numpy(), c = 'red', s = 10)\n",
    "    plt.imshow(frame.cpu().squeeze(), cmap='gray')\n",
    "    plt.savefig(save_dir + '/' + str(i) + '.jpg')\n",
    "    plt.clf()\n",
    "    plt.close()\n",
    "    \n",
    "    #fig.insert(i, plt.figure(figsize=(600/100, 600/100), dpi=100))\n",
    "    #plt.scatter(predictions_pre[0, :, 0].detach().numpy(), predictions_pre[0, :, 1].detach().numpy(), c = 'green', s = 10)\n",
    "    #plt.imshow(frame.cpu().squeeze(), cmap='gray')\n",
    "    #plt.savefig(save_dir + '/' + str(i+60) + '.jpg')\n",
    "    #plt.clf()\n",
    "    #plt.close()\n",
    "    i += 1\n",
    "    \n",
    "print(\"Time : \" , time.time()-start, \" for \", i , \" Frames\")\n",
    "cap.release()\n",
    "cv2.destroyAllWindows()"
   ]
  },
  {
   "cell_type": "code",
   "execution_count": 10,
   "id": "fed53cbd",
   "metadata": {},
   "outputs": [
    {
     "ename": "NameError",
     "evalue": "name 'predictions_pro' is not defined",
     "output_type": "error",
     "traceback": [
      "\u001b[1;31m---------------------------------------------------------------------------\u001b[0m",
      "\u001b[1;31mNameError\u001b[0m                                 Traceback (most recent call last)",
      "\u001b[1;32m<ipython-input-10-97f000be8e00>\u001b[0m in \u001b[0;36m<module>\u001b[1;34m\u001b[0m\n\u001b[1;32m----> 1\u001b[1;33m \u001b[1;32mif\u001b[0m \u001b[0mpredictions_pro\u001b[0m\u001b[1;33m[\u001b[0m\u001b[1;36m0\u001b[0m\u001b[1;33m,\u001b[0m \u001b[1;36m5\u001b[0m\u001b[1;33m,\u001b[0m \u001b[1;36m1\u001b[0m\u001b[1;33m]\u001b[0m \u001b[1;33m==\u001b[0m \u001b[0mpredictions_pre\u001b[0m\u001b[1;33m[\u001b[0m\u001b[1;36m0\u001b[0m\u001b[1;33m,\u001b[0m \u001b[1;36m5\u001b[0m \u001b[1;33m,\u001b[0m\u001b[1;36m1\u001b[0m\u001b[1;33m]\u001b[0m \u001b[1;33m:\u001b[0m\u001b[1;33m\u001b[0m\u001b[1;33m\u001b[0m\u001b[0m\n\u001b[0m\u001b[0;32m      2\u001b[0m     \u001b[0mprint\u001b[0m\u001b[1;33m(\u001b[0m\u001b[1;34m\"??\"\u001b[0m\u001b[1;33m)\u001b[0m\u001b[1;33m\u001b[0m\u001b[1;33m\u001b[0m\u001b[0m\n",
      "\u001b[1;31mNameError\u001b[0m: name 'predictions_pro' is not defined"
     ]
    }
   ],
   "source": [
    "if predictions_pro[0, 5, 1] == predictions_pre[0, 5 ,1] :\n",
    "    print(\"??\")"
   ]
  },
  {
   "cell_type": "code",
   "execution_count": 17,
   "id": "ac908337",
   "metadata": {},
   "outputs": [],
   "source": [
    "cap.release()\n",
    "cv2.destroyAllWindows()"
   ]
  },
  {
   "cell_type": "code",
   "execution_count": 16,
   "id": "3a5a9b29",
   "metadata": {},
   "outputs": [
    {
     "ename": "AttributeError",
     "evalue": "'list' object has no attribute 'cpu'",
     "output_type": "error",
     "traceback": [
      "\u001b[1;31m---------------------------------------------------------------------------\u001b[0m",
      "\u001b[1;31mAttributeError\u001b[0m                            Traceback (most recent call last)",
      "\u001b[1;32m<ipython-input-16-9fb11073108e>\u001b[0m in \u001b[0;36m<module>\u001b[1;34m\u001b[0m\n\u001b[0;32m     56\u001b[0m     \u001b[0mplt\u001b[0m\u001b[1;33m.\u001b[0m\u001b[0mscatter\u001b[0m\u001b[1;33m(\u001b[0m\u001b[0mpredictions\u001b[0m\u001b[1;33m[\u001b[0m\u001b[1;36m0\u001b[0m\u001b[1;33m,\u001b[0m \u001b[1;33m:\u001b[0m\u001b[1;33m,\u001b[0m \u001b[1;36m0\u001b[0m\u001b[1;33m]\u001b[0m\u001b[1;33m.\u001b[0m\u001b[0mdetach\u001b[0m\u001b[1;33m(\u001b[0m\u001b[1;33m)\u001b[0m\u001b[1;33m.\u001b[0m\u001b[0mnumpy\u001b[0m\u001b[1;33m(\u001b[0m\u001b[1;33m)\u001b[0m\u001b[1;33m,\u001b[0m \u001b[0mpredictions\u001b[0m\u001b[1;33m[\u001b[0m\u001b[1;36m0\u001b[0m\u001b[1;33m,\u001b[0m \u001b[1;33m:\u001b[0m\u001b[1;33m,\u001b[0m \u001b[1;36m1\u001b[0m\u001b[1;33m]\u001b[0m\u001b[1;33m.\u001b[0m\u001b[0mdetach\u001b[0m\u001b[1;33m(\u001b[0m\u001b[1;33m)\u001b[0m\u001b[1;33m.\u001b[0m\u001b[0mnumpy\u001b[0m\u001b[1;33m(\u001b[0m\u001b[1;33m)\u001b[0m\u001b[1;33m,\u001b[0m \u001b[0mc\u001b[0m \u001b[1;33m=\u001b[0m \u001b[1;34m'red'\u001b[0m\u001b[1;33m,\u001b[0m \u001b[0ms\u001b[0m \u001b[1;33m=\u001b[0m \u001b[1;36m10\u001b[0m\u001b[1;33m)\u001b[0m\u001b[1;33m\u001b[0m\u001b[1;33m\u001b[0m\u001b[0m\n\u001b[0;32m     57\u001b[0m \u001b[1;33m\u001b[0m\u001b[0m\n\u001b[1;32m---> 58\u001b[1;33m     \u001b[0mcv2\u001b[0m\u001b[1;33m.\u001b[0m\u001b[0mimshow\u001b[0m\u001b[1;33m(\u001b[0m\u001b[1;34m\"Real-time object detection\"\u001b[0m\u001b[1;33m,\u001b[0m \u001b[0mfig\u001b[0m\u001b[1;33m.\u001b[0m\u001b[0mcpu\u001b[0m\u001b[1;33m(\u001b[0m\u001b[1;33m)\u001b[0m\u001b[1;33m.\u001b[0m\u001b[0msqueeze\u001b[0m\u001b[1;33m(\u001b[0m\u001b[1;33m)\u001b[0m\u001b[1;33m,\u001b[0m \u001b[0mcmap\u001b[0m\u001b[1;33m=\u001b[0m\u001b[1;34m'gray'\u001b[0m\u001b[1;33m)\u001b[0m\u001b[1;33m\u001b[0m\u001b[1;33m\u001b[0m\u001b[0m\n\u001b[0m\u001b[0;32m     59\u001b[0m     \u001b[0mi\u001b[0m \u001b[1;33m+=\u001b[0m \u001b[1;36m1\u001b[0m\u001b[1;33m\u001b[0m\u001b[1;33m\u001b[0m\u001b[0m\n\u001b[0;32m     60\u001b[0m     \u001b[1;32mif\u001b[0m \u001b[0mcv2\u001b[0m\u001b[1;33m.\u001b[0m\u001b[0mwaitKey\u001b[0m\u001b[1;33m(\u001b[0m\u001b[1;36m1\u001b[0m\u001b[1;33m)\u001b[0m \u001b[1;33m&\u001b[0m \u001b[1;36m0xFF\u001b[0m \u001b[1;33m==\u001b[0m \u001b[0mord\u001b[0m\u001b[1;33m(\u001b[0m\u001b[1;34m'q'\u001b[0m\u001b[1;33m)\u001b[0m\u001b[1;33m:\u001b[0m\u001b[1;33m\u001b[0m\u001b[1;33m\u001b[0m\u001b[0m\n",
      "\u001b[1;31mAttributeError\u001b[0m: 'list' object has no attribute 'cpu'"
     ]
    },
    {
     "data": {
      "image/png": "[encoded data removed]",
      "text/plain": [
       "<Figure size 600x600 with 1 Axes>"
      ]
     },
     "metadata": {
      "needs_background": "light"
     },
     "output_type": "display_data"
    }
   ],
   "source": [
    "net = cv2.dnn.readNetFromCaffe('./openCV_models/deploy.prototxt.txt',\n",
    "                               './openCV_models/res10_300x300_ssd_iter_140000.caffemodel')\n",
    "best_network = Network()\n",
    "best_network.cuda()\n",
    "best_network.load_state_dict(torch.load('./LandmarkModel_neo_4_30.pth'))\n",
    "best_network.eval()\n",
    "\n",
    "save_dir = './webcamTest'\n",
    "\n",
    "start = time.time()\n",
    "cap = cv2.VideoCapture(0)\n",
    "i = 0\n",
    "widthh = 0; heightt = 0; tt = 0; ll = 0;\n",
    "fig = []\n",
    "while(cap.isOpened()) :\n",
    "    ret, frame = cap.read()\n",
    "    \n",
    "    if ret == False:\n",
    "        break\n",
    "    \n",
    "    (h, w) = frame.shape[:2]\n",
    "    blob = cv2.dnn.blobFromImage(cv2.resize(frame, (300,300)), 1.0, (300,300), (104.0, 177.0, 123.0))\n",
    "    net.setInput(blob)\n",
    "    detections = net.forward()\n",
    "\n",
    "    box = detections[0, 0, 0, 3:7] * np.array([w, h, w, h])\n",
    "    (l, t, r, b) = box.astype(\"int\")\n",
    "    # Crop\n",
    "    width = (r-l)\n",
    "    height = (b-t)\n",
    "    if(width > height) :\n",
    "        widthh = width*1.5\n",
    "        heightt = widthh\n",
    "        tt = t + height*0.5 - heightt*0.5\n",
    "        ll = l - width*0.25\n",
    "    else :\n",
    "        heightt = height*1.5\n",
    "        widthh = heightt\n",
    "        tt = t - height*0.25\n",
    "        ll = l + width*0.5 - widthh*0.5\n",
    "    \n",
    "    frame = cv2.cvtColor(frame, cv2.COLOR_BGR2GRAY)\n",
    "    frame = Image.fromarray(frame)\n",
    "    frame = TF.crop(frame, tt, ll, heightt, widthh)\n",
    "    frame = TF.resize(frame, (224,224))\n",
    "    frame = TF.to_tensor(frame)\n",
    "    frame = TF.normalize(frame, [0.5], [0.5])\n",
    "    frame = frame.unsqueeze(1)\n",
    "    frame = frame.cuda()\n",
    "    \n",
    "    predictions = (best_network(frame).cpu())\n",
    "    predictions = predictions.view(-1, 68, 2)\n",
    "\n",
    "    \n",
    "    fig.insert(i, plt.figure(figsize=(600/100, 600/100), dpi=100))\n",
    "    plt.scatter(predictions[0, :, 0].detach().numpy(), predictions[0, :, 1].detach().numpy(), c = 'red', s = 10)\n",
    "    \n",
    "    cv2.imshow(\"Real-time object detection\", fig.cpu().squeeze(), cmap='gray')\n",
    "    i += 1\n",
    "    if cv2.waitKey(1) & 0xFF == ord('q'):\n",
    "        break\n",
    "    \n",
    "print(\"Time : \" , time.time()-start, \" for \", i , \" Frames\")\n",
    "cap.release()\n",
    "cv2.destroyAllWindows()\n"
   ]
  },
  {
   "cell_type": "code",
   "execution_count": null,
   "id": "cd502e55",
   "metadata": {},
   "outputs": [],
   "source": []
  }
 ],
 "metadata": {
  "kernelspec": {
   "display_name": "Python 3",
   "language": "python",
   "name": "python3"
  },
  "language_info": {
   "codemirror_mode": {
    "name": "ipython",
    "version": 3
   },
   "file_extension": ".py",
   "mimetype": "text/x-python",
   "name": "python",
   "nbconvert_exporter": "python",
   "pygments_lexer": "ipython3",
   "version": "3.8.8"
  }
 },
 "nbformat": 4,
 "nbformat_minor": 5
}
