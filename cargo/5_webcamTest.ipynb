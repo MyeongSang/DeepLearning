{
 "cells": [
  {
   "cell_type": "code",
   "execution_count": 25,
   "id": "bc336449",
   "metadata": {},
   "outputs": [],
   "source": [
    "import torch\n",
    "import PIL\n",
    "import matplotlib.pyplot as plt\n",
    "import torchvision.transforms as transforms\n",
    "import natsort\n",
    "import glob\n",
    "import cv2\n",
    "import os\n",
    "import matplotlib.patches as patches\n",
    "import numpy as np\n",
    "import time\n",
    "from scipy import io"
   ]
  },
  {
   "cell_type": "code",
   "execution_count": 27,
   "id": "9344322f",
   "metadata": {},
   "outputs": [
    {
     "name": "stdout",
     "output_type": "stream",
     "text": [
      "Time :  14.298863887786865  for  60  Frames\n"
     ]
    }
   ],
   "source": [
    "net = cv2.dnn.readNetFromCaffe('./openCV_models/deploy.prototxt.txt',\n",
    "                               './openCV_models/res10_300x300_ssd_iter_140000.caffemodel')\n",
    "\n",
    "save_dir = './webcamTest'\n",
    "#os.mkdir(save_dir)\n",
    "\n",
    "start = time.time()\n",
    "cap = cv2.VideoCapture(0)\n",
    "i = 0\n",
    "while(cap.isOpened()) :\n",
    "    ret, frame = cap.read()\n",
    "    \n",
    "    if ret == False:\n",
    "        break\n",
    "    if i == 60:\n",
    "        break\n",
    "    \n",
    "    (h, w) = frame.shape[:2]\n",
    "    blob = cv2.dnn.blobFromImage(cv2.resize(frame, (300,300)), 1.0, (300,300), (104.0, 177.0, 123.0))\n",
    "    net.setInput(blob)\n",
    "    detections = net.forward()\n",
    "    \n",
    "    box = detections[0, 0, 0, 3:7] * np.array([w, h, w, h])\n",
    "    (l, t, r, b) = box.astype(\"int\")\n",
    "    img = PIL.Image.fromarray(frame)\n",
    "    \n",
    "    R, G, B = img.split()\n",
    "    new_image = PIL.Image.merge(\"RGB\", (B, G, R))\n",
    "    \n",
    "    plt.figure(figsize=(600/100, 600/100), dpi=100)\n",
    "    \n",
    "    ax = plt.gca()\n",
    "    ax.add_patch(\n",
    "       patches.Rectangle(\n",
    "          (l, t),                   # (x, y)\n",
    "          (r-l), (b-t),                     # width, height\n",
    "            lw = 2,\n",
    "          edgecolor = 'b',\n",
    "          fill=False,\n",
    "       ))\n",
    "\n",
    "    plt.imshow(new_image)\n",
    "    plt.savefig(save_dir + '/' + str(i) + '.jpg')\n",
    "    plt.clf()\n",
    "    plt.close()\n",
    "    i += 1\n",
    "    \n",
    "print(\"Time : \" , time.time()-start, \" for \", i , \" Frames\")\n",
    "cap.release()\n",
    "cv2.destroyAllWindows()"
   ]
  },
  {
   "cell_type": "code",
   "execution_count": 23,
   "id": "ab6dbf7e",
   "metadata": {},
   "outputs": [],
   "source": [
    "cap.release()\n",
    "cv2.destroyAllWindows()"
   ]
  }
 ],
 "metadata": {
  "kernelspec": {
   "display_name": "Python 3",
   "language": "python",
   "name": "python3"
  },
  "language_info": {
   "codemirror_mode": {
    "name": "ipython",
    "version": 3
   },
   "file_extension": ".py",
   "mimetype": "text/x-python",
   "name": "python",
   "nbconvert_exporter": "python",
   "pygments_lexer": "ipython3",
   "version": "3.8.8"
  }
 },
 "nbformat": 4,
 "nbformat_minor": 5
}
